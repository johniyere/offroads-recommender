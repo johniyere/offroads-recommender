{
 "cells": [
  {
   "cell_type": "code",
   "execution_count": 1,
   "metadata": {},
   "outputs": [],
   "source": [
    "import tensorflow as tf\n",
    "import numpy as np\n",
    "import pandas as pd\n",
    "\n",
    "from tensorflow.keras.layers import Input, Embedding, Flatten, Dot, Add, Concatenate, Dense, Dropout\n",
    "from tensorflow.keras.optimizers import Adam\n",
    "from tensorflow.keras.regularizers import l2\n",
    "\n",
    "ratings = pd.read_csv('ml-100k/ratings.csv', sep=',',encoding='latin-1')"
   ]
  },
  {
   "cell_type": "code",
   "execution_count": 2,
   "metadata": {},
   "outputs": [
    {
     "data": {
      "text/html": [
       "<div>\n",
       "<style scoped>\n",
       "    .dataframe tbody tr th:only-of-type {\n",
       "        vertical-align: middle;\n",
       "    }\n",
       "\n",
       "    .dataframe tbody tr th {\n",
       "        vertical-align: top;\n",
       "    }\n",
       "\n",
       "    .dataframe thead th {\n",
       "        text-align: right;\n",
       "    }\n",
       "</style>\n",
       "<table border=\"1\" class=\"dataframe\">\n",
       "  <thead>\n",
       "    <tr style=\"text-align: right;\">\n",
       "      <th></th>\n",
       "      <th>userId</th>\n",
       "      <th>movieId</th>\n",
       "      <th>rating</th>\n",
       "      <th>timestamp</th>\n",
       "    </tr>\n",
       "  </thead>\n",
       "  <tbody>\n",
       "    <tr>\n",
       "      <th>0</th>\n",
       "      <td>1</td>\n",
       "      <td>1</td>\n",
       "      <td>4.0</td>\n",
       "      <td>964982703</td>\n",
       "    </tr>\n",
       "    <tr>\n",
       "      <th>1</th>\n",
       "      <td>1</td>\n",
       "      <td>3</td>\n",
       "      <td>4.0</td>\n",
       "      <td>964981247</td>\n",
       "    </tr>\n",
       "    <tr>\n",
       "      <th>2</th>\n",
       "      <td>1</td>\n",
       "      <td>6</td>\n",
       "      <td>4.0</td>\n",
       "      <td>964982224</td>\n",
       "    </tr>\n",
       "    <tr>\n",
       "      <th>3</th>\n",
       "      <td>1</td>\n",
       "      <td>47</td>\n",
       "      <td>5.0</td>\n",
       "      <td>964983815</td>\n",
       "    </tr>\n",
       "    <tr>\n",
       "      <th>4</th>\n",
       "      <td>1</td>\n",
       "      <td>50</td>\n",
       "      <td>5.0</td>\n",
       "      <td>964982931</td>\n",
       "    </tr>\n",
       "  </tbody>\n",
       "</table>\n",
       "</div>"
      ],
      "text/plain": [
       "   userId  movieId  rating  timestamp\n",
       "0       1        1     4.0  964982703\n",
       "1       1        3     4.0  964981247\n",
       "2       1        6     4.0  964982224\n",
       "3       1       47     5.0  964983815\n",
       "4       1       50     5.0  964982931"
      ]
     },
     "execution_count": 2,
     "metadata": {},
     "output_type": "execute_result"
    }
   ],
   "source": [
    "ratings.head()"
   ]
  },
  {
   "cell_type": "code",
   "execution_count": 29,
   "metadata": {},
   "outputs": [],
   "source": [
    "u_unique = ratings.userId.unique()\n",
    "user2Id = { userId : index for index, userId in enumerate(u_unique)}\n",
    "ratings.userId = ratings.userId.apply(lambda x: user2Id[x])\n",
    "\n",
    "m_unique = ratings.movieId.unique()\n",
    "movie2Id = { movieId : index for index, movieId in enumerate(m_unique)}\n",
    "ratings.movieId = ratings.movieId.apply(lambda x: movie2Id[x])"
   ]
  },
  {
   "cell_type": "code",
   "execution_count": 31,
   "metadata": {},
   "outputs": [
    {
     "data": {
      "text/plain": [
       "(610, 9724)"
      ]
     },
     "execution_count": 31,
     "metadata": {},
     "output_type": "execute_result"
    }
   ],
   "source": [
    "n_users = ratings.userId.nunique()\n",
    "n_movies = ratings.movieId.nunique()\n",
    "n_users, n_movies"
   ]
  },
  {
   "cell_type": "code",
   "execution_count": 5,
   "metadata": {},
   "outputs": [],
   "source": [
    "n_factors = 50"
   ]
  },
  {
   "cell_type": "code",
   "execution_count": 6,
   "metadata": {},
   "outputs": [],
   "source": [
    "np.random.seed = 42"
   ]
  },
  {
   "cell_type": "code",
   "execution_count": 7,
   "metadata": {},
   "outputs": [],
   "source": [
    "msk = np.random.rand(len(ratings)) < 0.8"
   ]
  },
  {
   "cell_type": "code",
   "execution_count": 32,
   "metadata": {},
   "outputs": [],
   "source": [
    "trn = ratings[msk]\n",
    "val = ratings[~msk]"
   ]
  },
  {
   "cell_type": "markdown",
   "metadata": {},
   "source": [
    "# Dot Product Matrix Factorization"
   ]
  },
  {
   "cell_type": "code",
   "execution_count": 34,
   "metadata": {
    "scrolled": true
   },
   "outputs": [],
   "source": [
    "user_in = Input(shape=(1,), dtype='int64', name='user_input')\n",
    "u = Embedding(n_users, n_factors, input_length=1, embeddings_regularizer=l2(1e-5))(user_in)\n",
    "movie_in = Input(shape=(1,), dtype='int64', name='movie_input')\n",
    "m = Embedding(n_movies, n_factors, input_length=1, embeddings_regularizer=l2(1e-5))(movie_in)"
   ]
  },
  {
   "cell_type": "code",
   "execution_count": 35,
   "metadata": {},
   "outputs": [],
   "source": [
    "x = Dot(axes=-1)([u,m])\n",
    "x = Flatten()(x)\n",
    "model = tf.keras.Model(inputs=[user_in, movie_in], outputs=x)\n",
    "model.compile(optimizer=Adam(lr=0.001), loss='mse')"
   ]
  },
  {
   "cell_type": "code",
   "execution_count": 36,
   "metadata": {},
   "outputs": [
    {
     "name": "stdout",
     "output_type": "stream",
     "text": [
      "Train on 81021 samples, validate on 19815 samples\n",
      "Epoch 1/6\n",
      "81021/81021 [==============================] - 19s 232us/sample - loss: 9.7629 - val_loss: 4.6226\n",
      "Epoch 2/6\n",
      "81021/81021 [==============================] - 20s 244us/sample - loss: 2.2742 - val_loss: 2.1929\n",
      "Epoch 3/6\n",
      "81021/81021 [==============================] - 21s 264us/sample - loss: 1.3262 - val_loss: 1.7349\n",
      "Epoch 4/6\n",
      "81021/81021 [==============================] - 18s 218us/sample - loss: 1.0496 - val_loss: 1.5227\n",
      "Epoch 5/6\n",
      "81021/81021 [==============================] - 18s 225us/sample - loss: 0.9213 - val_loss: 1.4646\n",
      "Epoch 6/6\n",
      "81021/81021 [==============================] - 19s 231us/sample - loss: 0.8427 - val_loss: 1.4284\n"
     ]
    },
    {
     "data": {
      "text/plain": [
       "<tensorflow.python.keras.callbacks.History at 0x123a28e10>"
      ]
     },
     "execution_count": 36,
     "metadata": {},
     "output_type": "execute_result"
    }
   ],
   "source": [
    "model.fit([trn.userId, trn.movieId], trn.rating, batch_size=64, epochs=6,\n",
    "          validation_data=([val.userId, val.userId], val.rating))"
   ]
  },
  {
   "cell_type": "markdown",
   "metadata": {},
   "source": [
    "# Bias Model"
   ]
  },
  {
   "cell_type": "code",
   "execution_count": 12,
   "metadata": {},
   "outputs": [],
   "source": [
    "def embedding_input(name, n_in, n_out, reg):\n",
    "    inp = Input(shape=(1,), dtype='int64', name=name)\n",
    "    return inp, Embedding(n_in, n_out, input_length=1, embeddings_regularizer=l2(reg))(inp)"
   ]
  },
  {
   "cell_type": "code",
   "execution_count": 37,
   "metadata": {},
   "outputs": [],
   "source": [
    "user_in, u = embedding_input('user_input', n_users, n_factors, 1e-5)\n",
    "movie_in, m = embedding_input('movie_input', n_movies, n_factors, 1e-5)"
   ]
  },
  {
   "cell_type": "code",
   "execution_count": 38,
   "metadata": {},
   "outputs": [],
   "source": [
    "def create_bias(inp, n_in):\n",
    "    return Flatten()(Embedding(n_in, 1, input_length=1)(inp))"
   ]
  },
  {
   "cell_type": "code",
   "execution_count": 39,
   "metadata": {},
   "outputs": [],
   "source": [
    "ub = create_bias(user_in, n_users)\n",
    "mb = create_bias(movie_in, n_movies)"
   ]
  },
  {
   "cell_type": "code",
   "execution_count": 40,
   "metadata": {},
   "outputs": [],
   "source": [
    "x = Dot(axes=-1)([u,m])\n",
    "x = Flatten()(x)\n",
    "x = Add()([x, ub])\n",
    "x = Add()([x, mb])\n",
    "model = tf.keras.Model(inputs=[user_in, movie_in], outputs=x)\n",
    "model.compile(optimizer=Adam(lr=0.001), loss='mse')"
   ]
  },
  {
   "cell_type": "code",
   "execution_count": 41,
   "metadata": {},
   "outputs": [
    {
     "name": "stdout",
     "output_type": "stream",
     "text": [
      "Train on 81021 samples, validate on 19815 samples\n",
      "Epoch 1/6\n",
      "81021/81021 [==============================] - 20s 246us/sample - loss: 8.5263 - val_loss: 2.9365\n",
      "Epoch 2/6\n",
      "81021/81021 [==============================] - 19s 235us/sample - loss: 1.8265 - val_loss: 1.5304\n",
      "Epoch 3/6\n",
      "81021/81021 [==============================] - 22s 265us/sample - loss: 1.1189 - val_loss: 1.2717\n",
      "Epoch 4/6\n",
      "81021/81021 [==============================] - 19s 234us/sample - loss: 0.9181 - val_loss: 1.1904\n",
      "Epoch 5/6\n",
      "81021/81021 [==============================] - 19s 228us/sample - loss: 0.8202 - val_loss: 1.1566\n",
      "Epoch 6/6\n",
      "81021/81021 [==============================] - 20s 252us/sample - loss: 0.7520 - val_loss: 1.1414\n"
     ]
    },
    {
     "data": {
      "text/plain": [
       "<tensorflow.python.keras.callbacks.History at 0x1205f7a20>"
      ]
     },
     "execution_count": 41,
     "metadata": {},
     "output_type": "execute_result"
    }
   ],
   "source": [
    "model.fit([trn.userId, trn.movieId], trn.rating, batch_size=64, epochs=6,\n",
    "          validation_data=([val.userId, val.movieId], val.rating))"
   ]
  },
  {
   "cell_type": "markdown",
   "metadata": {},
   "source": [
    "# Neural Net"
   ]
  },
  {
   "cell_type": "code",
   "execution_count": 45,
   "metadata": {},
   "outputs": [],
   "source": [
    "user_in, u = embedding_input('user_input', n_users , n_factors, 1e-5)\n",
    "movie_in, m = embedding_input('movie_input', n_movies, n_factors, 1e-5)"
   ]
  },
  {
   "cell_type": "code",
   "execution_count": 46,
   "metadata": {},
   "outputs": [],
   "source": [
    "x = Concatenate()([u, m])\n",
    "x = Flatten()(x)\n",
    "x = Dense(units=100, activation='relu')(x)\n",
    "x = Dropout(rate=0.5)(x)\n",
    "x = Dense(1)(x)\n",
    "model = tf.keras.Model(inputs=[user_in, movie_in], outputs=x)\n",
    "model.compile(optimizer=Adam(lr=0.001), loss='mse')"
   ]
  },
  {
   "cell_type": "code",
   "execution_count": 47,
   "metadata": {},
   "outputs": [
    {
     "name": "stdout",
     "output_type": "stream",
     "text": [
      "Train on 81021 samples, validate on 19815 samples\n",
      "Epoch 1/5\n",
      "81021/81021 [==============================] - 20s 244us/sample - loss: 1.6328 - val_loss: 0.7927\n",
      "Epoch 2/5\n",
      "81021/81021 [==============================] - 19s 235us/sample - loss: 0.9404 - val_loss: 0.7761\n",
      "Epoch 3/5\n",
      "81021/81021 [==============================] - 19s 237us/sample - loss: 0.8743 - val_loss: 0.7750\n",
      "Epoch 4/5\n",
      "81021/81021 [==============================] - 21s 264us/sample - loss: 0.8209 - val_loss: 0.7692\n",
      "Epoch 5/5\n",
      "81021/81021 [==============================] - 22s 270us/sample - loss: 0.7784 - val_loss: 0.7726\n"
     ]
    },
    {
     "data": {
      "text/plain": [
       "<tensorflow.python.keras.callbacks.History at 0x128aa5b38>"
      ]
     },
     "execution_count": 47,
     "metadata": {},
     "output_type": "execute_result"
    }
   ],
   "source": [
    "model.fit([trn.userId, trn.movieId], trn.rating, batch_size=64, epochs=5,\n",
    "          validation_data=([val.userId, val.movieId], val.rating))"
   ]
  },
  {
   "cell_type": "code",
   "execution_count": null,
   "metadata": {},
   "outputs": [],
   "source": []
  }
 ],
 "metadata": {
  "kernelspec": {
   "display_name": "Python 3",
   "language": "python",
   "name": "python3"
  },
  "language_info": {
   "codemirror_mode": {
    "name": "ipython",
    "version": 3
   },
   "file_extension": ".py",
   "mimetype": "text/x-python",
   "name": "python",
   "nbconvert_exporter": "python",
   "pygments_lexer": "ipython3",
   "version": "3.7.2"
  }
 },
 "nbformat": 4,
 "nbformat_minor": 2
}
