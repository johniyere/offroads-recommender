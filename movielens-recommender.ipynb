{
 "cells": [
  {
   "cell_type": "code",
   "execution_count": 4,
   "metadata": {},
   "outputs": [],
   "source": [
    "import tensorflow as tf\n",
    "import numpy as np\n",
    "import pandas as pd\n",
    "import sys\n",
    "from tf_print import tf_print\n",
    "\n",
    "from tensorflow.keras.layers import ( Input, Embedding, Flatten, Dot, Add, Concatenate, \n",
    "        Dense, Dropout, Activation, Multiply )\n",
    "from tensorflow.keras.optimizers import Adam\n",
    "from tensorflow.keras.regularizers import l2\n",
    "from tensorflow.keras.activations import sigmoid\n",
    "from tensorflow.keras.initializers import RandomUniform\n",
    "from tensorflow.metrics import mean_squared_error"
   ]
  },
  {
   "cell_type": "code",
   "execution_count": 5,
   "metadata": {},
   "outputs": [
    {
     "data": {
      "text/html": [
       "<div>\n",
       "<style scoped>\n",
       "    .dataframe tbody tr th:only-of-type {\n",
       "        vertical-align: middle;\n",
       "    }\n",
       "\n",
       "    .dataframe tbody tr th {\n",
       "        vertical-align: top;\n",
       "    }\n",
       "\n",
       "    .dataframe thead th {\n",
       "        text-align: right;\n",
       "    }\n",
       "</style>\n",
       "<table border=\"1\" class=\"dataframe\">\n",
       "  <thead>\n",
       "    <tr style=\"text-align: right;\">\n",
       "      <th></th>\n",
       "      <th>userId</th>\n",
       "      <th>movieId</th>\n",
       "      <th>rating</th>\n",
       "      <th>timestamp</th>\n",
       "    </tr>\n",
       "  </thead>\n",
       "  <tbody>\n",
       "    <tr>\n",
       "      <th>0</th>\n",
       "      <td>1</td>\n",
       "      <td>1</td>\n",
       "      <td>4.0</td>\n",
       "      <td>964982703</td>\n",
       "    </tr>\n",
       "    <tr>\n",
       "      <th>1</th>\n",
       "      <td>1</td>\n",
       "      <td>3</td>\n",
       "      <td>4.0</td>\n",
       "      <td>964981247</td>\n",
       "    </tr>\n",
       "    <tr>\n",
       "      <th>2</th>\n",
       "      <td>1</td>\n",
       "      <td>6</td>\n",
       "      <td>4.0</td>\n",
       "      <td>964982224</td>\n",
       "    </tr>\n",
       "    <tr>\n",
       "      <th>3</th>\n",
       "      <td>1</td>\n",
       "      <td>47</td>\n",
       "      <td>5.0</td>\n",
       "      <td>964983815</td>\n",
       "    </tr>\n",
       "    <tr>\n",
       "      <th>4</th>\n",
       "      <td>1</td>\n",
       "      <td>50</td>\n",
       "      <td>5.0</td>\n",
       "      <td>964982931</td>\n",
       "    </tr>\n",
       "  </tbody>\n",
       "</table>\n",
       "</div>"
      ],
      "text/plain": [
       "   userId  movieId  rating  timestamp\n",
       "0       1        1     4.0  964982703\n",
       "1       1        3     4.0  964981247\n",
       "2       1        6     4.0  964982224\n",
       "3       1       47     5.0  964983815\n",
       "4       1       50     5.0  964982931"
      ]
     },
     "execution_count": 5,
     "metadata": {},
     "output_type": "execute_result"
    }
   ],
   "source": [
    "ratings = pd.read_csv('ml-100k/ratings.csv', sep=',',encoding='latin-1')\n",
    "ratings.head()"
   ]
  },
  {
   "cell_type": "code",
   "execution_count": 6,
   "metadata": {},
   "outputs": [],
   "source": [
    "u_unique = ratings.userId.unique()\n",
    "user2Id = { userId : index for index, userId in enumerate(u_unique)}\n",
    "ratings.userId = ratings.userId.apply(lambda x: user2Id[x])\n",
    "\n",
    "m_unique = ratings.movieId.unique()\n",
    "movie2Id = { movieId : index for index, movieId in enumerate(m_unique)}\n",
    "ratings.movieId = ratings.movieId.apply(lambda x: movie2Id[x])"
   ]
  },
  {
   "cell_type": "code",
   "execution_count": 7,
   "metadata": {},
   "outputs": [
    {
     "data": {
      "text/plain": [
       "(610, 9724)"
      ]
     },
     "execution_count": 7,
     "metadata": {},
     "output_type": "execute_result"
    }
   ],
   "source": [
    "n_users = ratings.userId.nunique()\n",
    "n_movies = ratings.movieId.nunique()\n",
    "n_users, n_movies"
   ]
  },
  {
   "cell_type": "code",
   "execution_count": 8,
   "metadata": {},
   "outputs": [],
   "source": [
    "n_factors = 50"
   ]
  },
  {
   "cell_type": "code",
   "execution_count": 9,
   "metadata": {},
   "outputs": [],
   "source": [
    "np.random.seed = 42"
   ]
  },
  {
   "cell_type": "code",
   "execution_count": 10,
   "metadata": {},
   "outputs": [],
   "source": [
    "msk = np.random.rand(len(ratings)) < 0.8"
   ]
  },
  {
   "cell_type": "code",
   "execution_count": 11,
   "metadata": {},
   "outputs": [],
   "source": [
    "trn = ratings[msk]\n",
    "val = ratings[~msk]"
   ]
  },
  {
   "cell_type": "markdown",
   "metadata": {},
   "source": [
    "# Embeddings Model"
   ]
  },
  {
   "cell_type": "code",
   "execution_count": 21,
   "metadata": {
    "scrolled": true
   },
   "outputs": [],
   "source": [
    "user_in = Input(shape=(1,), dtype='int64', name='user_input')\n",
    "u = Embedding(n_users, n_factors, input_length=1, embeddings_regularizer=l2(1e-5))(user_in)\n",
    "movie_in = Input(shape=(1,), dtype='int64', name='movie_input')\n",
    "m = Embedding(n_movies, n_factors, input_length=1, embeddings_regularizer=l2(1e-5))(movie_in)"
   ]
  },
  {
   "cell_type": "code",
   "execution_count": 22,
   "metadata": {},
   "outputs": [],
   "source": [
    "x = Dot(axes=-1)([u,m])\n",
    "x = Flatten()(x)\n",
    "model = tf.keras.Model(inputs=[user_in, movie_in], outputs=x)\n",
    "model.compile(optimizer=Adam(lr=0.001), loss='mse')"
   ]
  },
  {
   "cell_type": "code",
   "execution_count": 23,
   "metadata": {},
   "outputs": [
    {
     "name": "stdout",
     "output_type": "stream",
     "text": [
      "Train on 80712 samples, validate on 20124 samples\n",
      "Epoch 1/8\n",
      "80712/80712 [==============================] - 30s 374us/sample - loss: 9.7189 - val_loss: 3.6960\n",
      "Epoch 2/8\n",
      "80712/80712 [==============================] - 30s 370us/sample - loss: 2.2799 - val_loss: 1.8967\n",
      "Epoch 3/8\n",
      "80712/80712 [==============================] - 31s 383us/sample - loss: 1.3315 - val_loss: 1.5687\n",
      "Epoch 4/8\n",
      "80712/80712 [==============================] - 32s 401us/sample - loss: 1.0501 - val_loss: 1.4688\n",
      "Epoch 5/8\n",
      "80712/80712 [==============================] - 31s 382us/sample - loss: 0.9181 - val_loss: 1.4294\n",
      "Epoch 6/8\n",
      "80712/80712 [==============================] - 29s 364us/sample - loss: 0.8394 - val_loss: 1.4177\n",
      "Epoch 7/8\n",
      "80712/80712 [==============================] - 31s 382us/sample - loss: 0.7835 - val_loss: 1.4143\n",
      "Epoch 8/8\n",
      "80712/80712 [==============================] - 32s 395us/sample - loss: 0.7367 - val_loss: 1.4162\n"
     ]
    },
    {
     "data": {
      "text/plain": [
       "<tensorflow.python.keras.callbacks.History at 0xb24163470>"
      ]
     },
     "execution_count": 23,
     "metadata": {},
     "output_type": "execute_result"
    }
   ],
   "source": [
    "model.fit([trn.userId, trn.movieId], trn.rating, batch_size=64, epochs=8,\n",
    "          validation_data=([val.userId, val.movieId], val.rating))"
   ]
  },
  {
   "cell_type": "markdown",
   "metadata": {},
   "source": [
    "# Bias with Embeddings Model"
   ]
  },
  {
   "cell_type": "code",
   "execution_count": 187,
   "metadata": {},
   "outputs": [],
   "source": [
    "def embedding_input(name, n_in, n_out, reg):\n",
    "    inp = Input(shape=(1,), dtype='int64', name=name)\n",
    "    return inp, Embedding(n_in, n_out, input_length=1, embeddings_regularizer=l2(reg))(inp)"
   ]
  },
  {
   "cell_type": "code",
   "execution_count": 188,
   "metadata": {},
   "outputs": [],
   "source": [
    "user_in, u = embedding_input('user_input', n_users, n_factors, 0.1)\n",
    "movie_in, m = embedding_input('movie_input', n_movies, n_factors, 0.1)"
   ]
  },
  {
   "cell_type": "code",
   "execution_count": 189,
   "metadata": {},
   "outputs": [],
   "source": [
    "def create_bias(inp, n_in):\n",
    "    return Flatten()(Embedding(n_in, 1, input_length=1)(inp))"
   ]
  },
  {
   "cell_type": "code",
   "execution_count": 190,
   "metadata": {},
   "outputs": [],
   "source": [
    "ub = create_bias(user_in, n_users)\n",
    "mb = create_bias(movie_in, n_movies)"
   ]
  },
  {
   "cell_type": "code",
   "execution_count": 191,
   "metadata": {},
   "outputs": [],
   "source": [
    "x = Dot(axes=-1)([u,m])\n",
    "x = Flatten()(x)\n",
    "x = Add()([x, ub])\n",
    "x = Add()([x, mb])\n",
    "model = tf.keras.Model(inputs=[user_in, movie_in], outputs=x)\n",
    "model.compile(optimizer=Adam(lr=0.005), loss='mse')"
   ]
  },
  {
   "cell_type": "code",
   "execution_count": 192,
   "metadata": {},
   "outputs": [
    {
     "name": "stdout",
     "output_type": "stream",
     "text": [
      "Train on 80666 samples, validate on 20170 samples\n",
      "Epoch 1/6\n",
      "80666/80666 [==============================] - 20s 244us/sample - loss: 6.1861 - val_loss: 2.2600\n",
      "Epoch 2/6\n",
      "80666/80666 [==============================] - 16s 199us/sample - loss: 1.4769 - val_loss: 1.0810\n",
      "Epoch 3/6\n",
      "80666/80666 [==============================] - 19s 240us/sample - loss: 0.9287 - val_loss: 0.8766\n",
      "Epoch 4/6\n",
      "80666/80666 [==============================] - 17s 216us/sample - loss: 0.7826 - val_loss: 0.8097\n",
      "Epoch 5/6\n",
      "80666/80666 [==============================] - 17s 210us/sample - loss: 0.7201 - val_loss: 0.7857\n",
      "Epoch 6/6\n",
      "80666/80666 [==============================] - 18s 225us/sample - loss: 0.6897 - val_loss: 0.7802\n"
     ]
    },
    {
     "data": {
      "text/plain": [
       "<tensorflow.python.keras.callbacks.History at 0xb3b30b400>"
      ]
     },
     "execution_count": 192,
     "metadata": {},
     "output_type": "execute_result"
    }
   ],
   "source": [
    "model.fit([trn.userId, trn.movieId], trn.rating, batch_size=64, epochs=6,\n",
    "          validation_data=([val.userId, val.movieId], val.rating))"
   ]
  },
  {
   "cell_type": "markdown",
   "metadata": {},
   "source": [
    "# Neural Net"
   ]
  },
  {
   "cell_type": "code",
   "execution_count": 18,
   "metadata": {},
   "outputs": [],
   "source": [
    "user_in, u = embedding_input('user_input', n_users , n_factors, 1e-5)\n",
    "movie_in, m = embedding_input('movie_input', n_movies, n_factors, 1e-5)"
   ]
  },
  {
   "cell_type": "code",
   "execution_count": 144,
   "metadata": {},
   "outputs": [],
   "source": [
    "x = Concatenate()([u, m])\n",
    "x = Flatten()(x)\n",
    "x = Dense(units=100, activation='relu', use_bias=True)(x)\n",
    "x = Dropout(rate=0.75)(x)\n",
    "x = Dense(1)(x)\n",
    "model = tf.keras.Model(inputs=[user_in, movie_in], outputs=x)\n",
    "model.compile(optimizer=Adam(lr=0.001), loss='mse')"
   ]
  },
  {
   "cell_type": "code",
   "execution_count": 145,
   "metadata": {},
   "outputs": [
    {
     "name": "stdout",
     "output_type": "stream",
     "text": [
      "Train on 80666 samples, validate on 20170 samples\n",
      "Epoch 1/4\n",
      "80666/80666 [==============================] - 17s 215us/sample - loss: 1.6755 - val_loss: 0.8181\n",
      "Epoch 2/4\n",
      "80666/80666 [==============================] - 18s 228us/sample - loss: 1.1807 - val_loss: 0.7863\n",
      "Epoch 3/4\n",
      "80666/80666 [==============================] - 16s 199us/sample - loss: 0.9903 - val_loss: 0.7666\n",
      "Epoch 4/4\n",
      "80666/80666 [==============================] - 17s 205us/sample - loss: 0.8510 - val_loss: 0.7639\n"
     ]
    },
    {
     "data": {
      "text/plain": [
       "<tensorflow.python.keras.callbacks.History at 0xb3c8d7278>"
      ]
     },
     "execution_count": 145,
     "metadata": {},
     "output_type": "execute_result"
    }
   ],
   "source": [
    "model.fit([trn.userId, trn.movieId], trn.rating, batch_size=64, epochs=4,\n",
    "          validation_data=([val.userId, val.movieId], val.rating))"
   ]
  },
  {
   "cell_type": "markdown",
   "metadata": {},
   "source": [
    "# Evaluation Metrics"
   ]
  },
  {
   "cell_type": "code",
   "execution_count": 156,
   "metadata": {},
   "outputs": [
    {
     "name": "stdout",
     "output_type": "stream",
     "text": [
      "0.8740137\n"
     ]
    }
   ],
   "source": [
    "tf_print(tf.math.sqrt(0.7639))"
   ]
  }
 ],
 "metadata": {
  "kernelspec": {
   "display_name": "Python 3",
   "language": "python",
   "name": "python3"
  },
  "language_info": {
   "codemirror_mode": {
    "name": "ipython",
    "version": 3
   },
   "file_extension": ".py",
   "mimetype": "text/x-python",
   "name": "python",
   "nbconvert_exporter": "python",
   "pygments_lexer": "ipython3",
   "version": "3.7.1"
  }
 },
 "nbformat": 4,
 "nbformat_minor": 2
}
