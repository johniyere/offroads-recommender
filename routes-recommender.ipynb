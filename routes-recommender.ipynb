{
 "cells": [
  {
   "cell_type": "markdown",
   "metadata": {},
   "source": [
    "The code for this recommender system was adapted from: https://www.youtube.com/watch?v=V2h3IOBDvrA&feature=youtu.be&list=PLfYUBJiXbdtS2UQRzyrxmyVHoGW0gmLSM&t=6147"
   ]
  },
  {
   "cell_type": "code",
   "execution_count": 72,
   "metadata": {},
   "outputs": [],
   "source": [
    "import tensorflow as tf\n",
    "import numpy as np\n",
    "import pandas as pd\n",
    "\n",
    "from tensorflow.keras.layers import ( Input, Embedding, Flatten, Dot, Add, Concatenate, \n",
    "        Dense, Dropout, Activation, Multiply )\n",
    "from tensorflow.keras.optimizers import Adam\n",
    "from tensorflow.keras.regularizers import l2\n",
    "from tf_print import tf_print"
   ]
  },
  {
   "cell_type": "code",
   "execution_count": 2,
   "metadata": {},
   "outputs": [
    {
     "data": {
      "text/html": [
       "<div>\n",
       "<style scoped>\n",
       "    .dataframe tbody tr th:only-of-type {\n",
       "        vertical-align: middle;\n",
       "    }\n",
       "\n",
       "    .dataframe tbody tr th {\n",
       "        vertical-align: top;\n",
       "    }\n",
       "\n",
       "    .dataframe thead th {\n",
       "        text-align: right;\n",
       "    }\n",
       "</style>\n",
       "<table border=\"1\" class=\"dataframe\">\n",
       "  <thead>\n",
       "    <tr style=\"text-align: right;\">\n",
       "      <th></th>\n",
       "      <th>userId</th>\n",
       "      <th>routeId</th>\n",
       "      <th>rating</th>\n",
       "    </tr>\n",
       "  </thead>\n",
       "  <tbody>\n",
       "    <tr>\n",
       "      <th>0</th>\n",
       "      <td>cjtdagjg2dgc90b52si9pjzhm</td>\n",
       "      <td>cjtdahb82hbx50b57evpzr1aq</td>\n",
       "      <td>3.9</td>\n",
       "    </tr>\n",
       "    <tr>\n",
       "      <th>1</th>\n",
       "      <td>cjtdagjg2dgc90b52si9pjzhm</td>\n",
       "      <td>cjtdahb82hbx40b57idzxb9cp</td>\n",
       "      <td>2.5</td>\n",
       "    </tr>\n",
       "    <tr>\n",
       "      <th>2</th>\n",
       "      <td>cjtdagjg2dgc90b52si9pjzhm</td>\n",
       "      <td>cjtdahb82hbww0b57nh810qhn</td>\n",
       "      <td>2.3</td>\n",
       "    </tr>\n",
       "    <tr>\n",
       "      <th>3</th>\n",
       "      <td>cjtdagjg2dgc90b52si9pjzhm</td>\n",
       "      <td>cjtdahb82hby30b57udf930sv</td>\n",
       "      <td>1.7</td>\n",
       "    </tr>\n",
       "    <tr>\n",
       "      <th>4</th>\n",
       "      <td>cjtdagjg2dgc90b52si9pjzhm</td>\n",
       "      <td>cjtdahb82hby00b570fr577pz</td>\n",
       "      <td>1.1</td>\n",
       "    </tr>\n",
       "  </tbody>\n",
       "</table>\n",
       "</div>"
      ],
      "text/plain": [
       "                      userId                    routeId  rating\n",
       "0  cjtdagjg2dgc90b52si9pjzhm  cjtdahb82hbx50b57evpzr1aq     3.9\n",
       "1  cjtdagjg2dgc90b52si9pjzhm  cjtdahb82hbx40b57idzxb9cp     2.5\n",
       "2  cjtdagjg2dgc90b52si9pjzhm  cjtdahb82hbww0b57nh810qhn     2.3\n",
       "3  cjtdagjg2dgc90b52si9pjzhm  cjtdahb82hby30b57udf930sv     1.7\n",
       "4  cjtdagjg2dgc90b52si9pjzhm  cjtdahb82hby00b570fr577pz     1.1"
      ]
     },
     "execution_count": 2,
     "metadata": {},
     "output_type": "execute_result"
    }
   ],
   "source": [
    "ratings = pd.read_csv('rratings.csv', sep=',',encoding='latin-1')\n",
    "ratings.head()"
   ]
  },
  {
   "cell_type": "code",
   "execution_count": 3,
   "metadata": {},
   "outputs": [],
   "source": [
    "u_unique = ratings.userId.unique()\n",
    "user2Id = { userId : index for index, userId in enumerate(u_unique)}\n",
    "ratings.userId = ratings.userId.apply(lambda x: user2Id[x])\n",
    "\n",
    "r_unique = ratings.routeId.unique()\n",
    "route2Id = { routeId : index for index, routeId in enumerate(r_unique)}\n",
    "ratings.routeId = ratings.routeId.apply(lambda x: route2Id[x])"
   ]
  },
  {
   "cell_type": "code",
   "execution_count": 8,
   "metadata": {},
   "outputs": [
    {
     "data": {
      "text/plain": [
       "(30, 60)"
      ]
     },
     "execution_count": 8,
     "metadata": {},
     "output_type": "execute_result"
    }
   ],
   "source": [
    "n_users = ratings.userId.nunique()\n",
    "n_routes = ratings.routeId.nunique()\n",
    "n_users, n_routes"
   ]
  },
  {
   "cell_type": "code",
   "execution_count": 59,
   "metadata": {},
   "outputs": [],
   "source": [
    "n_factors = 50"
   ]
  },
  {
   "cell_type": "code",
   "execution_count": 60,
   "metadata": {},
   "outputs": [],
   "source": [
    "np.random.seed = 42"
   ]
  },
  {
   "cell_type": "code",
   "execution_count": 61,
   "metadata": {},
   "outputs": [],
   "source": [
    "msk = np.random.rand(len(ratings)) < 0.8"
   ]
  },
  {
   "cell_type": "code",
   "execution_count": 62,
   "metadata": {},
   "outputs": [
    {
     "data": {
      "text/plain": [
       "(95, 3)"
      ]
     },
     "execution_count": 62,
     "metadata": {},
     "output_type": "execute_result"
    }
   ],
   "source": [
    "trn = ratings[msk]\n",
    "val = ratings[~msk]\n",
    "val.shape"
   ]
  },
  {
   "cell_type": "code",
   "execution_count": 63,
   "metadata": {},
   "outputs": [],
   "source": [
    "def embedding_input(name, n_in, n_out, reg):\n",
    "    inp = Input(shape=(1,), dtype='int64', name=name)\n",
    "    return inp, Embedding(n_in, n_out, input_length=1, embeddings_regularizer=l2(reg))(inp)"
   ]
  },
  {
   "cell_type": "markdown",
   "metadata": {},
   "source": [
    "# Neural Network Model"
   ]
  },
  {
   "cell_type": "code",
   "execution_count": 67,
   "metadata": {},
   "outputs": [],
   "source": [
    "user_in, u = embedding_input('user_in', n_users, n_factors, 1e-5)\n",
    "route_in, r = embedding_input('route_in', n_routes, n_factors, 1e-5)"
   ]
  },
  {
   "cell_type": "code",
   "execution_count": 68,
   "metadata": {},
   "outputs": [],
   "source": [
    "x = Concatenate()([u, r])\n",
    "x = Flatten()(x)\n",
    "x = Dense(units=(n_factors * 2), activation='relu')(x)\n",
    "x = Dropout(rate=0.75)(x)\n",
    "x = Dense(1)(x)\n",
    "model = tf.keras.Model(inputs=[user_in, route_in], outputs=x)\n",
    "model.compile(optimizer=Adam(lr=0.05), loss='mse')"
   ]
  },
  {
   "cell_type": "code",
   "execution_count": 69,
   "metadata": {},
   "outputs": [
    {
     "name": "stdout",
     "output_type": "stream",
     "text": [
      "Train on 346 samples, validate on 95 samples\n",
      "Epoch 1/20\n",
      "346/346 [==============================] - 2s 5ms/sample - loss: 6.7072 - val_loss: 2.4678\n",
      "Epoch 2/20\n",
      "346/346 [==============================] - 0s 57us/sample - loss: 3.3685 - val_loss: 1.1625\n",
      "Epoch 3/20\n",
      "346/346 [==============================] - 0s 112us/sample - loss: 2.8901 - val_loss: 1.5058\n",
      "Epoch 4/20\n",
      "346/346 [==============================] - 0s 90us/sample - loss: 2.7860 - val_loss: 1.5148\n",
      "Epoch 5/20\n",
      "346/346 [==============================] - 0s 113us/sample - loss: 2.5269 - val_loss: 1.0130\n",
      "Epoch 6/20\n",
      "346/346 [==============================] - 0s 100us/sample - loss: 2.4151 - val_loss: 1.6070\n",
      "Epoch 7/20\n",
      "346/346 [==============================] - 0s 103us/sample - loss: 2.4158 - val_loss: 1.1982\n",
      "Epoch 8/20\n",
      "346/346 [==============================] - 0s 133us/sample - loss: 2.2216 - val_loss: 1.4063\n",
      "Epoch 9/20\n",
      "346/346 [==============================] - 0s 125us/sample - loss: 1.9582 - val_loss: 1.0420\n",
      "Epoch 10/20\n",
      "346/346 [==============================] - 0s 81us/sample - loss: 2.0854 - val_loss: 1.3021\n",
      "Epoch 11/20\n",
      "346/346 [==============================] - 0s 75us/sample - loss: 2.1299 - val_loss: 1.3415\n",
      "Epoch 12/20\n",
      "346/346 [==============================] - 0s 121us/sample - loss: 1.7415 - val_loss: 1.1598\n",
      "Epoch 13/20\n",
      "346/346 [==============================] - 0s 73us/sample - loss: 1.6990 - val_loss: 1.3743\n",
      "Epoch 14/20\n",
      "346/346 [==============================] - 0s 136us/sample - loss: 1.7405 - val_loss: 1.1054\n",
      "Epoch 15/20\n",
      "346/346 [==============================] - 0s 103us/sample - loss: 1.4211 - val_loss: 1.0722\n",
      "Epoch 16/20\n",
      "346/346 [==============================] - 0s 132us/sample - loss: 1.4839 - val_loss: 0.9086\n",
      "Epoch 17/20\n",
      "346/346 [==============================] - 0s 163us/sample - loss: 1.4228 - val_loss: 0.9691\n",
      "Epoch 18/20\n",
      "346/346 [==============================] - 0s 82us/sample - loss: 1.3744 - val_loss: 0.9248\n",
      "Epoch 19/20\n",
      "346/346 [==============================] - 0s 110us/sample - loss: 1.5636 - val_loss: 0.9095\n",
      "Epoch 20/20\n",
      "346/346 [==============================] - 0s 111us/sample - loss: 1.2536 - val_loss: 0.9505\n"
     ]
    },
    {
     "data": {
      "text/plain": [
       "<tensorflow.python.keras.callbacks.History at 0xb32e68898>"
      ]
     },
     "execution_count": 69,
     "metadata": {},
     "output_type": "execute_result"
    }
   ],
   "source": [
    "model.fit([trn.userId, trn.routeId], trn.rating, batch_size=64, epochs=20,\n",
    "          validation_data=([val.userId, val.routeId], val.rating))"
   ]
  },
  {
   "cell_type": "code",
   "execution_count": 71,
   "metadata": {},
   "outputs": [
    {
     "name": "stdout",
     "output_type": "stream",
     "text": [
      "__________________________________________________________________________________________________\n",
      "Layer (type)                    Output Shape         Param #     Connected to                     \n",
      "==================================================================================================\n",
      "user_in (InputLayer)            (None, 1)            0                                            \n",
      "__________________________________________________________________________________________________\n",
      "route_in (InputLayer)           (None, 1)            0                                            \n",
      "__________________________________________________________________________________________________\n",
      "embedding_24 (Embedding)        (None, 1, 50)        1500        user_in[0][0]                    \n",
      "__________________________________________________________________________________________________\n",
      "embedding_25 (Embedding)        (None, 1, 50)        3000        route_in[0][0]                   \n",
      "__________________________________________________________________________________________________\n",
      "concatenate_18 (Concatenate)    (None, 1, 100)       0           embedding_24[0][0]               \n",
      "                                                                 embedding_25[0][0]               \n",
      "__________________________________________________________________________________________________\n",
      "flatten_18 (Flatten)            (None, 100)          0           concatenate_18[0][0]             \n",
      "__________________________________________________________________________________________________\n",
      "dense_36 (Dense)                (None, 100)          10100       flatten_18[0][0]                 \n",
      "__________________________________________________________________________________________________\n",
      "dropout_18 (Dropout)            (None, 100)          0           dense_36[0][0]                   \n",
      "__________________________________________________________________________________________________\n",
      "dense_37 (Dense)                (None, 1)            101         dropout_18[0][0]                 \n",
      "==================================================================================================\n",
      "Total params: 14,701\n",
      "Trainable params: 14,701\n",
      "Non-trainable params: 0\n",
      "__________________________________________________________________________________________________\n"
     ]
    }
   ],
   "source": [
    "model.summary()"
   ]
  },
  {
   "cell_type": "code",
   "execution_count": 73,
   "metadata": {},
   "outputs": [
    {
     "name": "stdout",
     "output_type": "stream",
     "text": [
      "0.9749359\n"
     ]
    }
   ],
   "source": [
    "tf_print(tf.math.sqrt(0.9505))"
   ]
  },
  {
   "cell_type": "code",
   "execution_count": null,
   "metadata": {},
   "outputs": [],
   "source": []
  }
 ],
 "metadata": {
  "kernelspec": {
   "display_name": "Python 3",
   "language": "python",
   "name": "python3"
  },
  "language_info": {
   "codemirror_mode": {
    "name": "ipython",
    "version": 3
   },
   "file_extension": ".py",
   "mimetype": "text/x-python",
   "name": "python",
   "nbconvert_exporter": "python",
   "pygments_lexer": "ipython3",
   "version": "3.7.2"
  }
 },
 "nbformat": 4,
 "nbformat_minor": 2
}
