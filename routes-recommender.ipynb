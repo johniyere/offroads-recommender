{
 "cells": [
  {
   "cell_type": "code",
   "execution_count": 146,
   "metadata": {},
   "outputs": [],
   "source": [
    "import tensorflow as tf\n",
    "import numpy as np\n",
    "import pandas as pd\n",
    "\n",
    "from tensorflow.keras.layers import ( Input, Embedding, Flatten, Dot, Add, Concatenate, \n",
    "        Dense, Dropout, Activation, Multiply )\n",
    "from tensorflow.keras.optimizers import Adam\n",
    "from tensorflow.keras.regularizers import l2"
   ]
  },
  {
   "cell_type": "code",
   "execution_count": 147,
   "metadata": {},
   "outputs": [
    {
     "data": {
      "text/html": [
       "<div>\n",
       "<style scoped>\n",
       "    .dataframe tbody tr th:only-of-type {\n",
       "        vertical-align: middle;\n",
       "    }\n",
       "\n",
       "    .dataframe tbody tr th {\n",
       "        vertical-align: top;\n",
       "    }\n",
       "\n",
       "    .dataframe thead th {\n",
       "        text-align: right;\n",
       "    }\n",
       "</style>\n",
       "<table border=\"1\" class=\"dataframe\">\n",
       "  <thead>\n",
       "    <tr style=\"text-align: right;\">\n",
       "      <th></th>\n",
       "      <th>userId</th>\n",
       "      <th>routeId</th>\n",
       "      <th>rating</th>\n",
       "    </tr>\n",
       "  </thead>\n",
       "  <tbody>\n",
       "    <tr>\n",
       "      <th>0</th>\n",
       "      <td>cjsysx7la00en0836zceujv79</td>\n",
       "      <td>cjsyxzoer01j908824mfq6lg6</td>\n",
       "      <td>1.2</td>\n",
       "    </tr>\n",
       "    <tr>\n",
       "      <th>1</th>\n",
       "      <td>cjsysx7la00en0836zceujv79</td>\n",
       "      <td>cjsyxzo7b01ba0882kjs0ta26</td>\n",
       "      <td>4.0</td>\n",
       "    </tr>\n",
       "    <tr>\n",
       "      <th>2</th>\n",
       "      <td>cjsysx7la00en0836zceujv79</td>\n",
       "      <td>cjsyxzo7m01c10882s8gmo2rt</td>\n",
       "      <td>2.7</td>\n",
       "    </tr>\n",
       "    <tr>\n",
       "      <th>3</th>\n",
       "      <td>cjsysx7la00en0836zceujv79</td>\n",
       "      <td>cjsyxzodf01h40882qzwjsdqx</td>\n",
       "      <td>1.2</td>\n",
       "    </tr>\n",
       "    <tr>\n",
       "      <th>4</th>\n",
       "      <td>cjsysx7la00en0836zceujv79</td>\n",
       "      <td>cjsyxzod601ga088290hvk8fb</td>\n",
       "      <td>3.5</td>\n",
       "    </tr>\n",
       "  </tbody>\n",
       "</table>\n",
       "</div>"
      ],
      "text/plain": [
       "                      userId                    routeId  rating\n",
       "0  cjsysx7la00en0836zceujv79  cjsyxzoer01j908824mfq6lg6     1.2\n",
       "1  cjsysx7la00en0836zceujv79  cjsyxzo7b01ba0882kjs0ta26     4.0\n",
       "2  cjsysx7la00en0836zceujv79  cjsyxzo7m01c10882s8gmo2rt     2.7\n",
       "3  cjsysx7la00en0836zceujv79  cjsyxzodf01h40882qzwjsdqx     1.2\n",
       "4  cjsysx7la00en0836zceujv79  cjsyxzod601ga088290hvk8fb     3.5"
      ]
     },
     "execution_count": 147,
     "metadata": {},
     "output_type": "execute_result"
    }
   ],
   "source": [
    "ratings = pd.read_csv('rratings.csv', sep=',',encoding='latin-1')\n",
    "ratings.head()"
   ]
  },
  {
   "cell_type": "code",
   "execution_count": 148,
   "metadata": {},
   "outputs": [],
   "source": [
    "u_unique = ratings.userId.unique()\n",
    "user2Id = { userId : index for index, userId in enumerate(u_unique)}\n",
    "ratings.userId = ratings.userId.apply(lambda x: user2Id[x])\n",
    "\n",
    "r_unique = ratings.routeId.unique()\n",
    "route2Id = { routeId : index for index, routeId in enumerate(r_unique)}\n",
    "ratings.routeId = ratings.routeId.apply(lambda x: route2Id[x])"
   ]
  },
  {
   "cell_type": "code",
   "execution_count": 149,
   "metadata": {},
   "outputs": [
    {
     "data": {
      "text/plain": [
       "(103, 376)"
      ]
     },
     "execution_count": 149,
     "metadata": {},
     "output_type": "execute_result"
    }
   ],
   "source": [
    "n_users = ratings.userId.nunique()\n",
    "n_routes = ratings.routeId.nunique()\n",
    "n_users, n_routes"
   ]
  },
  {
   "cell_type": "code",
   "execution_count": 150,
   "metadata": {},
   "outputs": [],
   "source": [
    "n_factors = 32"
   ]
  },
  {
   "cell_type": "code",
   "execution_count": 151,
   "metadata": {},
   "outputs": [],
   "source": [
    "np.random.seed = 42"
   ]
  },
  {
   "cell_type": "code",
   "execution_count": 75,
   "metadata": {},
   "outputs": [],
   "source": [
    "msk = np.random.rand(len(ratings)) < 0.8"
   ]
  },
  {
   "cell_type": "code",
   "execution_count": 126,
   "metadata": {},
   "outputs": [
    {
     "data": {
      "text/plain": [
       "(204, 3)"
      ]
     },
     "execution_count": 126,
     "metadata": {},
     "output_type": "execute_result"
    }
   ],
   "source": [
    "trn = ratings[msk]\n",
    "val = ratings[~msk]\n",
    "val.shape"
   ]
  },
  {
   "cell_type": "code",
   "execution_count": 127,
   "metadata": {},
   "outputs": [],
   "source": [
    "def embedding_input(name, n_in, n_out, reg):\n",
    "    inp = Input(shape=(1,), dtype='int64', name=name)\n",
    "    return inp, Embedding(n_in, n_out, input_length=1, embeddings_regularizer=l2(reg))(inp)"
   ]
  },
  {
   "cell_type": "markdown",
   "metadata": {},
   "source": [
    "# Neural Network Model"
   ]
  },
  {
   "cell_type": "code",
   "execution_count": 143,
   "metadata": {},
   "outputs": [],
   "source": [
    "user_in, u = embedding_input('user_in', n_users, n_factors, 1e-3)\n",
    "route_in, r = embedding_input('route_in', n_routes, n_factors, 1e-3)"
   ]
  },
  {
   "cell_type": "code",
   "execution_count": 144,
   "metadata": {},
   "outputs": [],
   "source": [
    "x = Concatenate()([u, r])\n",
    "x = Flatten()(x)\n",
    "x = Dense(units=(n_factors * 2), activation='relu')(x)\n",
    "x = Dropout(rate=0.75)(x)\n",
    "x = Dense(1)(x)\n",
    "model = tf.keras.Model(inputs=[user_in, route_in], outputs=x)\n",
    "model.compile(optimizer=Adam(lr=0.001), loss='mse')"
   ]
  },
  {
   "cell_type": "code",
   "execution_count": 145,
   "metadata": {},
   "outputs": [
    {
     "name": "stdout",
     "output_type": "stream",
     "text": [
      "Train on 814 samples, validate on 204 samples\n",
      "Epoch 1/10\n",
      "814/814 [==============================] - 5s 6ms/sample - loss: 5.8005 - val_loss: 5.7161\n",
      "Epoch 2/10\n",
      "814/814 [==============================] - 0s 201us/sample - loss: 4.8342 - val_loss: 4.5717\n",
      "Epoch 3/10\n",
      "814/814 [==============================] - 0s 291us/sample - loss: 3.5697 - val_loss: 3.1520\n",
      "Epoch 4/10\n",
      "814/814 [==============================] - 0s 293us/sample - loss: 2.3898 - val_loss: 1.9725\n",
      "Epoch 5/10\n",
      "814/814 [==============================] - 0s 290us/sample - loss: 1.7087 - val_loss: 1.5927\n",
      "Epoch 6/10\n",
      "814/814 [==============================] - 0s 321us/sample - loss: 1.5373 - val_loss: 1.5776\n",
      "Epoch 7/10\n",
      "814/814 [==============================] - 0s 453us/sample - loss: 1.3750 - val_loss: 1.6074\n",
      "Epoch 8/10\n",
      "814/814 [==============================] - 0s 288us/sample - loss: 1.3361 - val_loss: 1.6780\n",
      "Epoch 9/10\n",
      "814/814 [==============================] - 0s 408us/sample - loss: 1.2062 - val_loss: 1.7519\n",
      "Epoch 10/10\n",
      "814/814 [==============================] - 0s 368us/sample - loss: 1.1478 - val_loss: 1.8343\n"
     ]
    },
    {
     "data": {
      "text/plain": [
       "<tensorflow.python.keras.callbacks.History at 0xb3b0c0f60>"
      ]
     },
     "execution_count": 145,
     "metadata": {},
     "output_type": "execute_result"
    }
   ],
   "source": [
    "model.fit([trn.userId, trn.routeId], trn.rating, batch_size=64, epochs=10,\n",
    "          validation_data=([val.userId, val.routeId], val.rating))"
   ]
  },
  {
   "cell_type": "code",
   "execution_count": 152,
   "metadata": {},
   "outputs": [
    {
     "name": "stdout",
     "output_type": "stream",
     "text": [
      "__________________________________________________________________________________________________\n",
      "Layer (type)                    Output Shape         Param #     Connected to                     \n",
      "==================================================================================================\n",
      "user_in (InputLayer)            (None, 1)            0                                            \n",
      "__________________________________________________________________________________________________\n",
      "route_in (InputLayer)           (None, 1)            0                                            \n",
      "__________________________________________________________________________________________________\n",
      "embedding_46 (Embedding)        (None, 1, 32)        3296        user_in[0][0]                    \n",
      "__________________________________________________________________________________________________\n",
      "embedding_47 (Embedding)        (None, 1, 32)        12032       route_in[0][0]                   \n",
      "__________________________________________________________________________________________________\n",
      "concatenate_31 (Concatenate)    (None, 1, 64)        0           embedding_46[0][0]               \n",
      "                                                                 embedding_47[0][0]               \n",
      "__________________________________________________________________________________________________\n",
      "flatten_31 (Flatten)            (None, 64)           0           concatenate_31[0][0]             \n",
      "__________________________________________________________________________________________________\n",
      "dense_62 (Dense)                (None, 64)           4160        flatten_31[0][0]                 \n",
      "__________________________________________________________________________________________________\n",
      "dropout_30 (Dropout)            (None, 64)           0           dense_62[0][0]                   \n",
      "__________________________________________________________________________________________________\n",
      "dense_63 (Dense)                (None, 1)            65          dropout_30[0][0]                 \n",
      "==================================================================================================\n",
      "Total params: 19,553\n",
      "Trainable params: 19,553\n",
      "Non-trainable params: 0\n",
      "__________________________________________________________________________________________________\n"
     ]
    }
   ],
   "source": [
    "model.summary()"
   ]
  },
  {
   "cell_type": "code",
   "execution_count": 153,
   "metadata": {},
   "outputs": [],
   "source": [
    "model.save('my_model.h5')"
   ]
  },
  {
   "cell_type": "code",
   "execution_count": null,
   "metadata": {},
   "outputs": [],
   "source": []
  }
 ],
 "metadata": {
  "kernelspec": {
   "display_name": "Python 3",
   "language": "python",
   "name": "python3"
  },
  "language_info": {
   "codemirror_mode": {
    "name": "ipython",
    "version": 3
   },
   "file_extension": ".py",
   "mimetype": "text/x-python",
   "name": "python",
   "nbconvert_exporter": "python",
   "pygments_lexer": "ipython3",
   "version": "3.7.1"
  }
 },
 "nbformat": 4,
 "nbformat_minor": 2
}
